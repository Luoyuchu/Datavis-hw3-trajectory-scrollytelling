{
 "cells": [
  {
   "cell_type": "code",
   "execution_count": 2,
   "metadata": {},
   "outputs": [],
   "source": [
    "import os\n",
    "import json\n",
    "import pandas as pd"
   ]
  },
  {
   "cell_type": "code",
   "execution_count": 4,
   "metadata": {},
   "outputs": [],
   "source": [
    "with open(\"traj_data_dingwei.json\", encoding='utf-8') as f:\n",
    "    data = json.load(f)        "
   ]
  },
  {
   "cell_type": "code",
   "execution_count": 10,
   "metadata": {},
   "outputs": [],
   "source": [
    "df = pd.DataFrame(columns=['x_coord', 'y_coord', 'name', 'time_start', 'time_end', 'detail'])\n",
    "for i in data['trajectory']:\n",
    "    if type(i['year']) != list:\n",
    "        year = [i['year'], i['year']]\n",
    "    else:\n",
    "        year = i['year']\n",
    "    df.loc[len(df)] = [i['x_coord'], i['y_coord'], i['name'], year[0], year[1], ''.join(i['detail'])]"
   ]
  },
  {
   "cell_type": "code",
   "execution_count": 12,
   "metadata": {},
   "outputs": [],
   "source": [
    "df.to_csv(\"tmp.csv\", encoding='utf-8')"
   ]
  }
 ],
 "metadata": {
  "kernelspec": {
   "display_name": "Python 3.8.11 ('general')",
   "language": "python",
   "name": "python3"
  },
  "language_info": {
   "codemirror_mode": {
    "name": "ipython",
    "version": 3
   },
   "file_extension": ".py",
   "mimetype": "text/x-python",
   "name": "python",
   "nbconvert_exporter": "python",
   "pygments_lexer": "ipython3",
   "version": "3.8.11"
  },
  "orig_nbformat": 4,
  "vscode": {
   "interpreter": {
    "hash": "335f1b7791784c7959bb06f5828845433e797078fd29160eb5ab3a96f1066019"
   }
  }
 },
 "nbformat": 4,
 "nbformat_minor": 2
}
